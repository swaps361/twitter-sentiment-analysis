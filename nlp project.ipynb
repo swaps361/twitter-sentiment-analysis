{
 "cells": [
  {
   "cell_type": "code",
   "execution_count": 27,
   "id": "af8ad374",
   "metadata": {},
   "outputs": [],
   "source": [
    "import random\n",
    "from nltk.corpus import twitter_samples, stopwords\n",
    "from nltk.tokenize import word_tokenize\n",
    "from nltk.stem import PorterStemmer, WordNetLemmatizer\n",
    "from nltk.probability import FreqDist\n",
    "from sklearn.tree import DecisionTreeClassifier\n",
    "from sklearn.model_selection import cross_val_score\n",
    "import nltk.classify.util\n",
    "import numpy as np"
   ]
  },
  {
   "cell_type": "code",
   "execution_count": 28,
   "id": "20fa0d5f",
   "metadata": {},
   "outputs": [],
   "source": [
    "import spacy  \n",
    "\n",
    "# Load spaCy's English language model\n",
    "nlp = spacy.load('en_core_web_sm') "
   ]
  },
  {
   "cell_type": "code",
   "execution_count": 29,
   "id": "62f3cb34",
   "metadata": {},
   "outputs": [],
   "source": [
    "# Load twitter samples dataset\n",
    "positive_tweets = twitter_samples.strings('positive_tweets.json')\n",
    "negative_tweets = twitter_samples.strings('negative_tweets.json')"
   ]
  },
  {
   "cell_type": "code",
   "execution_count": 30,
   "id": "3d66ea4e",
   "metadata": {},
   "outputs": [],
   "source": [
    "# Combine the datasets and create labels\n",
    "tweets = positive_tweets + negative_tweets\n",
    "labels = ['Positive'] * len(positive_tweets) + ['Negative'] * len(negative_tweets)"
   ]
  },
  {
   "cell_type": "code",
   "execution_count": 31,
   "id": "cd833a61",
   "metadata": {},
   "outputs": [],
   "source": [
    "# Shuffle the dataset\n",
    "combined = list(zip(tweets, labels))\n",
    "random.shuffle(combined)\n",
    "tweets, labels = zip(*combined)"
   ]
  },
  {
   "cell_type": "code",
   "execution_count": 32,
   "id": "70ed32b1",
   "metadata": {},
   "outputs": [],
   "source": [
    "# Additional custom stopwords\n",
    "custom_stopwords = set([\"i'm\", \"rt\", \"u\", \"4\", \"2\", \"im\", \"ur\", \"don't\", \"amp\"])\n",
    "stop_words = set(stopwords.words('english')).union(custom_stopwords)"
   ]
  },
  {
   "cell_type": "code",
   "execution_count": 33,
   "id": "b905dbcf",
   "metadata": {},
   "outputs": [],
   "source": [
    "# Preprocessing function - Fine-tuning for NLP models: text preprocessing, stopword removal\n",
    "def preprocess_text(text):\n",
    "    tokens = word_tokenize(text)\n",
    "    filtered_tokens = [word for word in tokens if word.lower() not in stop_words]\n",
    "    return filtered_tokens"
   ]
  },
  {
   "cell_type": "code",
   "execution_count": 34,
   "id": "966186ca",
   "metadata": {},
   "outputs": [],
   "source": [
    "# Preprocess all tweets\n",
    "processed_tweets = [preprocess_text(tweet) for tweet in tweets]"
   ]
  },
  {
   "cell_type": "code",
   "execution_count": 35,
   "id": "907d5967",
   "metadata": {},
   "outputs": [],
   "source": [
    "# Stemming and Lemmatization\n",
    "stemmer = PorterStemmer()\n",
    "lemmatizer = WordNetLemmatizer()\n",
    "\n",
    "stemmed_tweets = [[stemmer.stem(word) for word in tweet] for tweet in processed_tweets]\n",
    "lemmatized_tweets = [[lemmatizer.lemmatize(word) for word in tweet] for tweet in processed_tweets]"
   ]
  },
  {
   "cell_type": "code",
   "execution_count": 36,
   "id": "d80223b9",
   "metadata": {},
   "outputs": [],
   "source": [
    "# Extract bigrams and unigrams\n",
    "def get_bigrams_and_unigrams(tokens):\n",
    "    bigrams = list(nltk.bigrams(tokens))\n",
    "    bigrams = ['_'.join(bigram) for bigram in bigrams]\n",
    "    return tokens + bigrams"
   ]
  },
  {
   "cell_type": "code",
   "execution_count": 37,
   "id": "72af4d17",
   "metadata": {},
   "outputs": [],
   "source": [
    "# Combine bigrams with unigrams\n",
    "all_words = [word.lower() for tweet in lemmatized_tweets for word in get_bigrams_and_unigrams(tweet)]\n",
    "all_words_freq = FreqDist(all_words)"
   ]
  },
  {
   "cell_type": "code",
   "execution_count": 38,
   "id": "ca84c122",
   "metadata": {},
   "outputs": [],
   "source": [
    "# Select the top 2000 words as features\n",
    "word_features = list(all_words_freq.keys())[:2000]"
   ]
  },
  {
   "cell_type": "code",
   "execution_count": 39,
   "id": "218cac2b",
   "metadata": {},
   "outputs": [],
   "source": [
    "# Feature scaling function\n",
    "def scale_features(features):\n",
    "    scaled_features = {}\n",
    "    max_value = max(features.values()) if features else 1\n",
    "    for word, present in features.items():\n",
    "        scaled_features[word] = present / max_value\n",
    "    return scaled_features"
   ]
  },
  {
   "cell_type": "code",
   "execution_count": 40,
   "id": "b502f325",
   "metadata": {},
   "outputs": [],
   "source": [
    "# Define document features\n",
    "def document_features(document):\n",
    "    document_words = set(document)\n",
    "    features = {'contains({})'.format(word): (word in document_words) for word in word_features}\n",
    "    return scale_features(features)"
   ]
  },
  {
   "cell_type": "code",
   "execution_count": 41,
   "id": "aef21302",
   "metadata": {},
   "outputs": [],
   "source": [
    "# Entity Recognition - Identify named entities in tweets\n",
    "def extract_entities(text):\n",
    "    doc = nlp(text)\n",
    "    entities = [(ent.text, ent.label_) for ent in doc.ents]\n",
    "    return entities"
   ]
  },
  {
   "cell_type": "code",
   "execution_count": 42,
   "id": "524d72d8",
   "metadata": {},
   "outputs": [
    {
     "name": "stdout",
     "output_type": "stream",
     "text": [
      "Tweet: Spring Fiesta 2015 \n",
      "\n",
      "Make Some Noise, Awuuuuuuuuuuuuuuuuuuuuuuuuuuuuuuuuuuuuuuuuu!!!!!!!!! Aich :)\n",
      "Entities: [('Spring Fiesta 2015', 'EVENT')]\n",
      "\n",
      "Tweet: @avonfvcks ID BE SO GRATEFUL IF YOU GIFTED ME #NotAnApology :-)\n",
      "Entities: [('@avonfvcks ID BE SO GRATEFUL', 'ORG')]\n",
      "\n",
      "Tweet: @ClearlyArticle :) its 430 am smh\n",
      "Entities: [('430', 'CARDINAL')]\n",
      "\n",
      "Tweet: Last time I was here, was a funeral and a again funeral. Modimo ho tseba wena fela. :( — feeling emotional at... http://t.co/mQYsswdot7\n",
      "Entities: [('Modimo', 'GPE'), ('http://t.co/mQYsswdot7', 'PERSON')]\n",
      "\n",
      "Tweet: @kendrahatesu FOLLOWED ME THANKS, AND\n",
      "@justinbieber PLEASE FOLLOWED ME TOO :(\n",
      "Entities: [('@justinbieber', 'DATE'), ('TOO', 'ORG')]\n",
      "\n"
     ]
    }
   ],
   "source": [
    "# Process tweets for entity recognition\n",
    "for tweet in tweets[:5]:  # Limiting to first 5 tweets for brevity\n",
    "    entities = extract_entities(tweet)\n",
    "    if entities:\n",
    "        print(f\"Tweet: {tweet}\")\n",
    "        print(f\"Entities: {entities}\\n\")"
   ]
  },
  {
   "cell_type": "code",
   "execution_count": 43,
   "id": "494353f8",
   "metadata": {},
   "outputs": [],
   "source": [
    "# Create feature sets for training and testing\n",
    "feature_sets = [(document_features(get_bigrams_and_unigrams(tweet)), label) for tweet, label in zip(lemmatized_tweets, labels)]\n",
    "train_set, test_set = feature_sets[1000:], feature_sets[:1000]"
   ]
  },
  {
   "cell_type": "code",
   "execution_count": 44,
   "id": "93a055b7",
   "metadata": {},
   "outputs": [
    {
     "name": "stdout",
     "output_type": "stream",
     "text": [
      "Naive Bayes Accuracy: 99.90%\n"
     ]
    }
   ],
   "source": [
    "# Train Naive Bayes Classifier - Text classification\n",
    "nb_classifier = nltk.NaiveBayesClassifier.train(train_set)\n",
    "nb_accuracy = nltk.classify.util.accuracy(nb_classifier, test_set)\n",
    "print(f'Naive Bayes Accuracy: {nb_accuracy * 100:.2f}%')"
   ]
  },
  {
   "cell_type": "code",
   "execution_count": 45,
   "id": "a8728616",
   "metadata": {},
   "outputs": [
    {
     "name": "stdout",
     "output_type": "stream",
     "text": [
      "Most Informative Features\n",
      "           contains(:_() = 1.0            Negati : Positi =   1160.9 : 1.0\n",
      "           contains(:_)) = 1.0            Positi : Negati =    920.9 : 1.0\n",
      "           contains(-_)) = 1.0            Positi : Negati =    396.2 : 1.0\n",
      "           contains((_() = 1.0            Negati : Positi =    249.1 : 1.0\n",
      "        contains((_http) = 1.0            Negati : Positi =    223.8 : 1.0\n",
      "           contains()_)) = 1.0            Positi : Negati =    164.3 : 1.0\n",
      "        contains()_http) = 1.0            Positi : Negati =     76.2 : 1.0\n",
      "             contains(() = 1.0            Negati : Positi =     64.8 : 1.0\n",
      "             contains()) = 1.0            Positi : Negati =     62.3 : 1.0\n",
      "      contains(follower) = 1.0            Positi : Negati =     47.0 : 1.0\n"
     ]
    }
   ],
   "source": [
    "# Show most informative features\n",
    "nb_classifier.show_most_informative_features(10)"
   ]
  },
  {
   "cell_type": "code",
   "execution_count": 46,
   "id": "cac67429",
   "metadata": {},
   "outputs": [
    {
     "name": "stdout",
     "output_type": "stream",
     "text": [
      "Decision Tree Accuracy: 100.00%\n"
     ]
    }
   ],
   "source": [
    "# Train Decision Tree Classifier - Text classification\n",
    "dt_classifier = nltk.SklearnClassifier(DecisionTreeClassifier()).train(train_set)\n",
    "dt_accuracy = nltk.classify.util.accuracy(dt_classifier, test_set)\n",
    "print(f'Decision Tree Accuracy: {dt_accuracy * 100:.2f}%')"
   ]
  },
  {
   "cell_type": "code",
   "execution_count": null,
   "id": "4aacf6b2",
   "metadata": {},
   "outputs": [],
   "source": []
  },
  {
   "cell_type": "code",
   "execution_count": null,
   "id": "60f38b1f",
   "metadata": {},
   "outputs": [],
   "source": []
  }
 ],
 "metadata": {
  "kernelspec": {
   "display_name": "Python 3 (ipykernel)",
   "language": "python",
   "name": "python3"
  },
  "language_info": {
   "codemirror_mode": {
    "name": "ipython",
    "version": 3
   },
   "file_extension": ".py",
   "mimetype": "text/x-python",
   "name": "python",
   "nbconvert_exporter": "python",
   "pygments_lexer": "ipython3",
   "version": "3.10.13"
  }
 },
 "nbformat": 4,
 "nbformat_minor": 5
}
